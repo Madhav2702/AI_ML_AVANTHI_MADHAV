{
  "nbformat": 4,
  "nbformat_minor": 0,
  "metadata": {
    "colab": {
      "provenance": [],
      "authorship_tag": "ABX9TyNqUQXKw5VlQEKAHCmqzTML",
      "include_colab_link": true
    },
    "kernelspec": {
      "name": "python3",
      "display_name": "Python 3"
    },
    "language_info": {
      "name": "python"
    }
  },
  "cells": [
    {
      "cell_type": "markdown",
      "metadata": {
        "id": "view-in-github",
        "colab_type": "text"
      },
      "source": [
        "<a href=\"https://colab.research.google.com/github/Madhav2702/AI_ML_AVANTHI_MADHAV/blob/main/DAY%202%263.ipynb\" target=\"_parent\"><img src=\"https://colab.research.google.com/assets/colab-badge.svg\" alt=\"Open In Colab\"/></a>"
      ]
    },
    {
      "cell_type": "code",
      "source": [],
      "metadata": {
        "id": "ebBtfDe9lxo8"
      },
      "execution_count": null,
      "outputs": []
    },
    {
      "cell_type": "code",
      "source": [
        "count=1\n",
        "for i in range(1,5):\n",
        "  for j in range(i):\n",
        "    print(count,end=\" \")\n",
        "    count +=1\n",
        "  print(\"\\n\")\n",
        "\n"
      ],
      "metadata": {
        "colab": {
          "base_uri": "https://localhost:8080/"
        },
        "id": "tbkTGvIExjjT",
        "outputId": "76855002-0459-41a8-e4d7-f7fb02115141"
      },
      "execution_count": null,
      "outputs": [
        {
          "output_type": "stream",
          "name": "stdout",
          "text": [
            "1 \n",
            "\n",
            "2 3 \n",
            "\n",
            "4 5 6 \n",
            "\n",
            "7 8 9 10 \n",
            "\n"
          ]
        }
      ]
    },
    {
      "cell_type": "code",
      "source": [
        "for i in range(5,0,-1):\n",
        "  print(\" \")\n",
        "  for j in range(i):\n",
        "    print(\"*\",end=\" \")\n",
        "print(\"\\n\")\n",
        "\n"
      ],
      "metadata": {
        "colab": {
          "base_uri": "https://localhost:8080/"
        },
        "id": "1c7awf1Q3yqv",
        "outputId": "6dab0614-cfbe-425e-9e2d-3233f64ff95c"
      },
      "execution_count": null,
      "outputs": [
        {
          "output_type": "stream",
          "name": "stdout",
          "text": [
            " \n",
            "* * * * *  \n",
            "* * * *  \n",
            "* * *  \n",
            "* *  \n",
            "* \n",
            "\n"
          ]
        }
      ]
    },
    {
      "cell_type": "code",
      "source": [
        "for i in range(4):\n",
        "    for j in range(4):\n",
        "        if i == 0 or i == size - 1 or j == 0 or j == size - 1:\n",
        "            print(\"*\", end=\" \")\n",
        "        else:\n",
        "            print(\" \", end=\" \")\n",
        "    print()"
      ],
      "metadata": {
        "colab": {
          "base_uri": "https://localhost:8080/"
        },
        "id": "r5S366Zg7F_2",
        "outputId": "d29b6391-a7d8-46b3-b41b-5df094090326"
      },
      "execution_count": 18,
      "outputs": [
        {
          "output_type": "stream",
          "name": "stdout",
          "text": [
            "* * * * \n",
            "*     * \n",
            "*     * \n",
            "* * * * \n"
          ]
        }
      ]
    },
    {
      "cell_type": "code",
      "source": [
        "count = 2\n",
        "for i in range(4,0,-1):\n",
        "  for j in range(i):\n",
        "    print(count,end=\" \")\n",
        "    count+=2\n",
        "  print(\"\\n\")"
      ],
      "metadata": {
        "colab": {
          "base_uri": "https://localhost:8080/"
        },
        "id": "1EyN6kfnB-ti",
        "outputId": "0bc48a00-ffb6-48bd-fc09-76a910eec80f"
      },
      "execution_count": null,
      "outputs": [
        {
          "output_type": "stream",
          "name": "stdout",
          "text": [
            "2 4 6 8 \n",
            "\n",
            "10 12 14 \n",
            "\n",
            "16 18 \n",
            "\n",
            "20 \n",
            "\n"
          ]
        }
      ]
    },
    {
      "cell_type": "code",
      "source": [
        "n=[1,32,24,13,97,1,8,14,99,34,5,56,8,23]\n",
        "sum=0\n",
        "for i in n:\n",
        "   if i%2==0:\n",
        "     sum += i\n",
        "print(sum)"
      ],
      "metadata": {
        "colab": {
          "base_uri": "https://localhost:8080/"
        },
        "id": "gN5blaFKl0oi",
        "outputId": "f08dca44-0dad-4597-c297-d6ede79d8873"
      },
      "execution_count": 1,
      "outputs": [
        {
          "output_type": "stream",
          "name": "stdout",
          "text": [
            "176\n"
          ]
        }
      ]
    },
    {
      "cell_type": "code",
      "source": [
        "my_dict={\n",
        "\"name\":\"madhav\",\n",
        "\"age\":22,\n",
        "\"phonenumber\":8374229100,\n",
        "\"favorite food\":\"chicken\"\n",
        "}\n",
        "print(my_dict)"
      ],
      "metadata": {
        "colab": {
          "base_uri": "https://localhost:8080/"
        },
        "id": "pIf9ky0AmIzB",
        "outputId": "81faee21-9e5b-4660-c01b-6e3acc8a82a0"
      },
      "execution_count": 3,
      "outputs": [
        {
          "output_type": "stream",
          "name": "stdout",
          "text": [
            "{'name': 'madhav', 'age': 22, 'phonenumber': 8374229100, 'favorite food': 'chicken'}\n"
          ]
        }
      ]
    },
    {
      "cell_type": "code",
      "source": [
        "x=[3,3,5,5,3,3,7,7,5,3,7,5]\n",
        "dict={}\n",
        "distinct=set(x)\n",
        "for i in distinct:\n",
        "  dict[i]=0\n",
        "for i in range (len(x)):\n",
        "   dict[x[i]]+=1\n",
        "print(dict)"
      ],
      "metadata": {
        "colab": {
          "base_uri": "https://localhost:8080/"
        },
        "id": "vr4fJDzVmT5l",
        "outputId": "816f5238-0395-49f8-dc41-f654c72680c7"
      },
      "execution_count": 4,
      "outputs": [
        {
          "output_type": "stream",
          "name": "stdout",
          "text": [
            "{3: 5, 5: 4, 7: 3}\n"
          ]
        }
      ]
    }
  ]
}